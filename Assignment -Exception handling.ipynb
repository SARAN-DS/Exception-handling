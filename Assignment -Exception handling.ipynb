{
 "cells": [
  {
   "cell_type": "code",
   "execution_count": 1,
   "metadata": {},
   "outputs": [],
   "source": [
    "#question-1"
   ]
  },
  {
   "cell_type": "code",
   "execution_count": 64,
   "metadata": {},
   "outputs": [
    {
     "name": "stdout",
     "output_type": "stream",
     "text": [
      "Enter the number:5\n",
      "division by zero\n"
     ]
    }
   ],
   "source": [
    "try:\n",
    "    a=int(input(\"Enter the number:\"))\n",
    "    b=0\n",
    "    c=a/b\n",
    "    print(c)\n",
    "except Exception as e:\n",
    "    print(e)"
   ]
  },
  {
   "cell_type": "code",
   "execution_count": 62,
   "metadata": {},
   "outputs": [],
   "source": [
    "#question-2"
   ]
  },
  {
   "cell_type": "code",
   "execution_count": 63,
   "metadata": {},
   "outputs": [
    {
     "name": "stdout",
     "output_type": "stream",
     "text": [
      "Americans watch cricket\n",
      "indians watch cricket\n",
      "Americans plays baseball\n",
      "indians plays baseball\n"
     ]
    }
   ],
   "source": [
    "subject={\"1\":\"Americans\",\"2\":\"indians\"}\n",
    "verbs={\"3\":\"watch\",\"4\":\"plays\"}\n",
    "objects={\"5\":\"cricket\",\"6\":\"baseball\"}\n",
    "print(subject[\"1\"]+\" \"+verbs[\"3\"]+\" \"+objects[\"5\"])\n",
    "print(subject[\"2\"]+\" \"+verbs[\"3\"]+\" \"+objects[\"5\"]) \n",
    "print(subject[\"1\"]+\" \"+verbs[\"4\"]+\" \"+objects[\"6\"])\n",
    "print(subject[\"2\"]+\" \"+verbs[\"4\"]+\" \"+objects[\"6\"])"
   ]
  },
  {
   "cell_type": "code",
   "execution_count": null,
   "metadata": {},
   "outputs": [],
   "source": []
  },
  {
   "cell_type": "code",
   "execution_count": null,
   "metadata": {},
   "outputs": [],
   "source": []
  }
 ],
 "metadata": {
  "kernelspec": {
   "display_name": "Python 3",
   "language": "python",
   "name": "python3"
  },
  "language_info": {
   "codemirror_mode": {
    "name": "ipython",
    "version": 3
   },
   "file_extension": ".py",
   "mimetype": "text/x-python",
   "name": "python",
   "nbconvert_exporter": "python",
   "pygments_lexer": "ipython3",
   "version": "3.8.5"
  }
 },
 "nbformat": 4,
 "nbformat_minor": 4
}
